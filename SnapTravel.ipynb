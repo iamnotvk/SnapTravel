{
  "nbformat": 4,
  "nbformat_minor": 0,
  "metadata": {
    "colab": {
      "name": "SnapTravel.ipynb",
      "provenance": [],
      "authorship_tag": "ABX9TyMm21fnv+aSz4r38vIA0MVM",
      "include_colab_link": true
    },
    "kernelspec": {
      "name": "python3",
      "display_name": "Python 3"
    },
    "language_info": {
      "name": "python"
    }
  },
  "cells": [
    {
      "cell_type": "markdown",
      "metadata": {
        "id": "view-in-github",
        "colab_type": "text"
      },
      "source": [
        "<a href=\"https://colab.research.google.com/github/iamnotvk/SnapTravel/blob/main/SnapTravel.ipynb\" target=\"_parent\"><img src=\"https://colab.research.google.com/assets/colab-badge.svg\" alt=\"Open In Colab\"/></a>"
      ]
    },
    {
      "cell_type": "code",
      "metadata": {
        "id": "SFjk-vUFEbb6"
      },
      "source": [
        "!pip install pandasql"
      ],
      "execution_count": null,
      "outputs": []
    },
    {
      "cell_type": "code",
      "metadata": {
        "id": "Jhrm_915y5QA"
      },
      "source": [
        "import pandas as pd\n",
        "import pandasql as ps\n",
        "from pandasql import sqldf\n",
        "import string\n",
        "import re"
      ],
      "execution_count": null,
      "outputs": []
    },
    {
      "cell_type": "code",
      "metadata": {
        "colab": {
          "base_uri": "https://localhost:8080/",
          "height": 234
        },
        "id": "OJT5vf41rcx8",
        "outputId": "2cc068fd-0f34-43a6-8a20-4b5e2cb769c3"
      },
      "source": [
        "data = 'Airline Code;DelayTimes;FlightCodes;To_From\\nAir Canada (!);[21, 40];20015.0;WAterLoo_NEWYork\\n<Air France> (12);[];;Montreal_TORONTO\\n(Porter Airways. );[60, 22, 87];20035.0;CALgary_Ottawa\\n12. Air France;[78, 66];;Ottawa_VANcouvER\\n\"\"\".\\\\.Lufthansa.\\\\.\"\"\";[12, 33];20055.0;london_MONTreal\\n'\n",
        "splitn = data.split(\"\\n\")\n",
        "df = pd.DataFrame([sub.split(\";\") for sub in splitn])\n",
        "#Naming the Columns\n",
        "df.columns =['Airlines', 'DelayTimes', 'FlightCodes', 'To_From']\n",
        "df.drop(labels=[0,6],axis=0,inplace=True)\n",
        "\n",
        "#Removing Unncessary Punctuations from the Airlines Columns\n",
        "i = 1\n",
        "for k in df['Airlines']:\n",
        "  df.at[i,\"Airlines\"] = (re.sub(r\"[^a-zA-Z]+\", ' ', k))\n",
        "  i+=1\n",
        "\n",
        "#Increment the FlightCodes by 10 and fill all the missing values\n",
        "i = 1\n",
        "para = 20015\n",
        "for k in df['FlightCodes']:\n",
        "  df.at[i,\"FlightCodes\"] = para\n",
        "  i+=1\n",
        "  para+=10\n",
        "\n",
        "#Split the To_From Columns using '_' as a delimiter\n",
        "df[['To','From']] = df.To_From.str.split(\"_\",expand=True,)\n",
        "df.drop(labels=[\"To_From\"],axis=1,inplace=True)\n",
        "df = df.rename(columns={'Airlines': 'Airlines1', 'DelayTimes': 'DelayTimes1', 'FlightCodes': 'FlightCodes1', 'To': 'To_', 'From': 'From_'})\n",
        "\n",
        "i=1\n",
        "for k in df['To_']:\n",
        "  df.at[i,\"To_\"] = df.at[i,\"To_\"].upper()\n",
        "  i+=1\n",
        "\n",
        "i=1\n",
        "for k in df['From_']:\n",
        "  df.at[i,\"From_\"] = df.at[i,\"From_\"].upper()\n",
        "  i+=1\n",
        "\n",
        "display(df)\n",
        "# SQL Query to retrieve the flights leaving from Waterloo\n",
        "\n",
        "mysql = lambda q: sqldf(q) \n",
        "query = ''' SELECT * FROM df WHERE From_ LIKE '%Waterloo%'; ''' \n",
        "mysql(query)\n",
        "\n"
      ],
      "execution_count": null,
      "outputs": [
        {
          "output_type": "display_data",
          "data": {
            "text/html": [
              "<div>\n",
              "<style scoped>\n",
              "    .dataframe tbody tr th:only-of-type {\n",
              "        vertical-align: middle;\n",
              "    }\n",
              "\n",
              "    .dataframe tbody tr th {\n",
              "        vertical-align: top;\n",
              "    }\n",
              "\n",
              "    .dataframe thead th {\n",
              "        text-align: right;\n",
              "    }\n",
              "</style>\n",
              "<table border=\"1\" class=\"dataframe\">\n",
              "  <thead>\n",
              "    <tr style=\"text-align: right;\">\n",
              "      <th></th>\n",
              "      <th>Airlines1</th>\n",
              "      <th>DelayTimes1</th>\n",
              "      <th>FlightCodes1</th>\n",
              "      <th>To_</th>\n",
              "      <th>From_</th>\n",
              "    </tr>\n",
              "  </thead>\n",
              "  <tbody>\n",
              "    <tr>\n",
              "      <th>1</th>\n",
              "      <td>Air Canada</td>\n",
              "      <td>[21, 40]</td>\n",
              "      <td>20015</td>\n",
              "      <td>WATERLOO</td>\n",
              "      <td>NEWYORK</td>\n",
              "    </tr>\n",
              "    <tr>\n",
              "      <th>2</th>\n",
              "      <td>Air France</td>\n",
              "      <td>[]</td>\n",
              "      <td>20025</td>\n",
              "      <td>MONTREAL</td>\n",
              "      <td>TORONTO</td>\n",
              "    </tr>\n",
              "    <tr>\n",
              "      <th>3</th>\n",
              "      <td>Porter Airways</td>\n",
              "      <td>[60, 22, 87]</td>\n",
              "      <td>20035</td>\n",
              "      <td>CALGARY</td>\n",
              "      <td>OTTAWA</td>\n",
              "    </tr>\n",
              "    <tr>\n",
              "      <th>4</th>\n",
              "      <td>Air France</td>\n",
              "      <td>[78, 66]</td>\n",
              "      <td>20045</td>\n",
              "      <td>OTTAWA</td>\n",
              "      <td>VANCOUVER</td>\n",
              "    </tr>\n",
              "    <tr>\n",
              "      <th>5</th>\n",
              "      <td>Lufthansa</td>\n",
              "      <td>[12, 33]</td>\n",
              "      <td>20055</td>\n",
              "      <td>LONDON</td>\n",
              "      <td>MONTREAL</td>\n",
              "    </tr>\n",
              "  </tbody>\n",
              "</table>\n",
              "</div>"
            ],
            "text/plain": [
              "          Airlines1   DelayTimes1 FlightCodes1       To_      From_\n",
              "1       Air Canada       [21, 40]        20015  WATERLOO    NEWYORK\n",
              "2       Air France             []        20025  MONTREAL    TORONTO\n",
              "3   Porter Airways   [60, 22, 87]        20035   CALGARY     OTTAWA\n",
              "4        Air France      [78, 66]        20045    OTTAWA  VANCOUVER\n",
              "5        Lufthansa       [12, 33]        20055    LONDON   MONTREAL"
            ]
          },
          "metadata": {}
        },
        {
          "output_type": "execute_result",
          "data": {
            "text/html": [
              "<div>\n",
              "<style scoped>\n",
              "    .dataframe tbody tr th:only-of-type {\n",
              "        vertical-align: middle;\n",
              "    }\n",
              "\n",
              "    .dataframe tbody tr th {\n",
              "        vertical-align: top;\n",
              "    }\n",
              "\n",
              "    .dataframe thead th {\n",
              "        text-align: right;\n",
              "    }\n",
              "</style>\n",
              "<table border=\"1\" class=\"dataframe\">\n",
              "  <thead>\n",
              "    <tr style=\"text-align: right;\">\n",
              "      <th></th>\n",
              "      <th>Airlines1</th>\n",
              "      <th>DelayTimes1</th>\n",
              "      <th>FlightCodes1</th>\n",
              "      <th>To_</th>\n",
              "      <th>From_</th>\n",
              "    </tr>\n",
              "  </thead>\n",
              "  <tbody>\n",
              "  </tbody>\n",
              "</table>\n",
              "</div>"
            ],
            "text/plain": [
              "Empty DataFrame\n",
              "Columns: [Airlines1, DelayTimes1, FlightCodes1, To_, From_]\n",
              "Index: []"
            ]
          },
          "metadata": {},
          "execution_count": 129
        }
      ]
    }
  ]
}